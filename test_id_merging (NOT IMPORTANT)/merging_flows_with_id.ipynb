{
 "cells": [
  {
   "cell_type": "code",
   "execution_count": 3,
   "id": "7a84b46a-3c2e-4668-9004-918981bd9243",
   "metadata": {},
   "outputs": [],
   "source": [
    "import pandas as pd\n",
    "\n",
    "# read in the two files\n",
    "df1 = pd.read_csv('file1.csv')\n",
    "df2 = pd.read_csv('file2.csv')\n",
    "\n",
    "# select the relevant columns from df1 and create a new dataframe\n",
    "df1_new = df1[['test_id', 'gas', 'oil', 'water']]\n",
    "\n",
    "# add a new column to df2 to store the original order\n",
    "df2['order'] = range(1, len(df2)+1)\n",
    "\n",
    "# merge df1_new with df2 on the test_id column using an inner join\n",
    "merged_df = pd.merge(df1_new, df2, on='test_id', how='inner')\n",
    "\n",
    "# sort the merged dataframe by the order column\n",
    "merged_df = merged_df.sort_values(by='order')\n",
    "\n",
    "# remove the order column\n",
    "merged_df = merged_df.drop('order', axis=1)\n",
    "\n",
    "# save the merged dataframe to a new file\n",
    "merged_df.to_csv('merged_file.csv', index=False)\n",
    "\n"
   ]
  },
  {
   "cell_type": "code",
   "execution_count": null,
   "id": "43b1b612-2d36-4386-8020-2f65cc209cc5",
   "metadata": {},
   "outputs": [],
   "source": []
  }
 ],
 "metadata": {
  "kernelspec": {
   "display_name": "Python 3 (ipykernel)",
   "language": "python",
   "name": "python3"
  },
  "language_info": {
   "codemirror_mode": {
    "name": "ipython",
    "version": 3
   },
   "file_extension": ".py",
   "mimetype": "text/x-python",
   "name": "python",
   "nbconvert_exporter": "python",
   "pygments_lexer": "ipython3",
   "version": "3.10.9"
  }
 },
 "nbformat": 4,
 "nbformat_minor": 5
}
