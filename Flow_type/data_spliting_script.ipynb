{
 "cells": [
  {
   "cell_type": "code",
   "execution_count": 2,
   "id": "03da615c-819e-4406-a7e9-f9fd75fde80e",
   "metadata": {},
   "outputs": [
    {
     "name": "stdout",
     "output_type": "stream",
     "text": [
      "Collecting split-folders\n",
      "  Using cached split_folders-0.5.1-py3-none-any.whl (8.4 kB)\n",
      "Installing collected packages: split-folders\n",
      "Successfully installed split-folders-0.5.1\n"
     ]
    }
   ],
   "source": [
    "# !pip install split-folders"
   ]
  },
  {
   "cell_type": "code",
   "execution_count": 1,
   "id": "f48fb52e-6093-4479-a073-7cbcda7c3691",
   "metadata": {},
   "outputs": [],
   "source": [
    "import splitfolders\n",
    "\n",
    "input_folder = \"SPECTROGRAMS_15\" #Enter Input Folder\n",
    "output = \"images_recognition/train_test_17\" #Enter Output Folder\n",
    "\n",
    "splitfolders.ratio(input_folder, output=output, seed=42, ratio=(0.85, 0.15))"
   ]
  },
  {
   "cell_type": "code",
   "execution_count": null,
   "id": "b537faa0-81cb-4a6a-9b0e-1a0b1c4597e3",
   "metadata": {},
   "outputs": [],
   "source": []
  }
 ],
 "metadata": {
  "kernelspec": {
   "display_name": "Python 3 (ipykernel)",
   "language": "python",
   "name": "python3"
  },
  "language_info": {
   "codemirror_mode": {
    "name": "ipython",
    "version": 3
   },
   "file_extension": ".py",
   "mimetype": "text/x-python",
   "name": "python",
   "nbconvert_exporter": "python",
   "pygments_lexer": "ipython3",
   "version": "3.9.16"
  }
 },
 "nbformat": 4,
 "nbformat_minor": 5
}
