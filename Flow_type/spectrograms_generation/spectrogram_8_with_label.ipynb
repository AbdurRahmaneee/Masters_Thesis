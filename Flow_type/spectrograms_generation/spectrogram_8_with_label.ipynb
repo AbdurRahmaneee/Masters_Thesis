{
 "cells": [
  {
   "cell_type": "code",
   "execution_count": 11,
   "id": "c522576e-ceaf-47f5-b383-6a8730a2820b",
   "metadata": {},
   "outputs": [],
   "source": [
    "import os\n",
    "import pandas as pd\n",
    "from scipy.signal import spectrogram\n",
    "import matplotlib.pyplot as plt\n",
    "import numpy as np\n",
    "import time\n",
    "# Set the directory containing the data files\n",
    "data_dir = 'RAW_DATA/OW'\n",
    "\n",
    "# Set the directory to save spectrograms\n",
    "spec_dir = 'SPECTROGRAMS_16/OW'\n",
    "\n",
    "# Set the sampling rate\n",
    "fs = 1/0.000019531 # sampling rate (Hz)\n",
    "\n",
    "# Loop through each file in the data directoryW\n",
    "for file in os.listdir(data_dir):\n",
    "    plt.clf()\n",
    "    # Check if file is a CSV file\n",
    "    if file.endswith('.csv'):\n",
    "        # Read the CSV file\n",
    "        df = pd.read_csv(os.path.join(data_dir, file), header=None)\n",
    "\n",
    "        # Convert the data to a NumPy array, use only 10 second data\n",
    "        data = df.values[:int(10 * fs)].flatten()\n",
    "\n",
    "\n",
    "        # Compute the spectrogram\n",
    "        f, t, Sxx = spectrogram(data, fs)\n",
    "        \n",
    "        # Plot and save the spectrogram\n",
    "        plt.pcolormesh(t, f, np.log10(Sxx), vmin=-9.9, vmax=-5, shading='gouraud')\n",
    "        plt.ylim(0, 20000)  # set the y-axis limit\n",
    "        plt.ylabel('Frequency [Hz]')\n",
    "        plt.xlabel('Time [sec]')\n",
    "        plt.colorbar()\n",
    "        plt.title(os.path.splitext(file)[0])\n",
    "        plt.savefig(os.path.join(spec_dir, os.path.splitext(file)[0] + '.png'))\n",
    "        plt.colorbar()\n",
    "        plt.close()\n",
    "        # Delete variables to free up memory\n",
    "        del df, data, f, t, Sxx\n",
    "        time.sleep(0.5)"
   ]
  },
  {
   "cell_type": "code",
   "execution_count": null,
   "id": "ea74df4a-a6c6-44f9-aaca-d42a6720cdc9",
   "metadata": {},
   "outputs": [],
   "source": []
  }
 ],
 "metadata": {
  "kernelspec": {
   "display_name": "Python 3 (ipykernel)",
   "language": "python",
   "name": "python3"
  },
  "language_info": {
   "codemirror_mode": {
    "name": "ipython",
    "version": 3
   },
   "file_extension": ".py",
   "mimetype": "text/x-python",
   "name": "python",
   "nbconvert_exporter": "python",
   "pygments_lexer": "ipython3",
   "version": "3.9.16"
  }
 },
 "nbformat": 4,
 "nbformat_minor": 5
}
