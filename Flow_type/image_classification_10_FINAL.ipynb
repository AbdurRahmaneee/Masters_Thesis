{
 "cells": [
  {
   "cell_type": "code",
   "execution_count": 1,
   "metadata": {
    "colab": {
     "base_uri": "https://localhost:8080/"
    },
    "id": "8d5XjfA2v76w",
    "outputId": "2a60df70-0412-499e-b060-03218143fa67"
   },
   "outputs": [
    {
     "name": "stdout",
     "output_type": "stream",
     "text": [
      "There are 2 directories and 0 images in 'images_recognition/train_test_17'.\n",
      "There are 7 directories and 0 images in 'images_recognition/train_test_17\\test'.\n",
      "There are 0 directories and 2 images in 'images_recognition/train_test_17\\test\\G'.\n",
      "There are 0 directories and 2 images in 'images_recognition/train_test_17\\test\\GO'.\n",
      "There are 0 directories and 3 images in 'images_recognition/train_test_17\\test\\GOW'.\n",
      "There are 0 directories and 2 images in 'images_recognition/train_test_17\\test\\GW'.\n",
      "There are 0 directories and 2 images in 'images_recognition/train_test_17\\test\\O'.\n",
      "There are 0 directories and 3 images in 'images_recognition/train_test_17\\test\\OW'.\n",
      "There are 0 directories and 2 images in 'images_recognition/train_test_17\\test\\W'.\n",
      "There are 7 directories and 0 images in 'images_recognition/train_test_17\\train'.\n",
      "There are 0 directories and 5 images in 'images_recognition/train_test_17\\train\\G'.\n",
      "There are 0 directories and 8 images in 'images_recognition/train_test_17\\train\\GO'.\n",
      "There are 0 directories and 12 images in 'images_recognition/train_test_17\\train\\GOW'.\n",
      "There are 0 directories and 7 images in 'images_recognition/train_test_17\\train\\GW'.\n",
      "There are 0 directories and 6 images in 'images_recognition/train_test_17\\train\\O'.\n",
      "There are 0 directories and 12 images in 'images_recognition/train_test_17\\train\\OW'.\n",
      "There are 0 directories and 9 images in 'images_recognition/train_test_17\\train\\W'.\n"
     ]
    }
   ],
   "source": [
    "# How many images in each folder?\n",
    "import os\n",
    "\n",
    "# Walk through 10 percent data directory and list number of files\n",
    "for dirpath, dirnames, filenames in os.walk(\"images_recognition/train_test_17\"):\n",
    "  print(f\"There are {len(dirnames)} directories and {len(filenames)} images in '{dirpath}'.\")"
   ]
  },
  {
   "cell_type": "code",
   "execution_count": 2,
   "metadata": {
    "id": "i54na1fswObS"
   },
   "outputs": [],
   "source": [
    "# Create training and test directory paths\n",
    "train_dir = \"images_recognition/train_test_17/train\"\n",
    "test_dir = \"images_recognition/train_test_17/test\""
   ]
  },
  {
   "cell_type": "code",
   "execution_count": 3,
   "metadata": {
    "colab": {
     "base_uri": "https://localhost:8080/"
    },
    "id": "KP_1867kwUuo",
    "outputId": "8c19e7cf-8434-4a75-db3e-3e17190390e1"
   },
   "outputs": [
    {
     "name": "stdout",
     "output_type": "stream",
     "text": [
      "Found 59 files belonging to 7 classes.\n",
      "Found 16 files belonging to 7 classes.\n"
     ]
    }
   ],
   "source": [
    "# Setup data inputs\n",
    "import tensorflow as tf\n",
    "IMG_SIZE = (224, 224)\n",
    "train_data = tf.keras.utils.image_dataset_from_directory(train_dir,\n",
    "                                                         label_mode=\"categorical\",\n",
    "                                                        image_size=IMG_SIZE,\n",
    "                                                         batch_size=2)\n",
    "\n",
    "test_data = tf.keras.utils.image_dataset_from_directory(test_dir,\n",
    "                                                        label_mode=\"categorical\",\n",
    "                                                        image_size=IMG_SIZE,\n",
    "                                                        shuffle=False,\n",
    "                                                        batch_size=2)"
   ]
  },
  {
   "cell_type": "code",
   "execution_count": 4,
   "metadata": {
    "colab": {
     "base_uri": "https://localhost:8080/"
    },
    "id": "9bC9v3jewfhm",
    "outputId": "bb3b2de9-a783-42f7-e675-7eea195800a5"
   },
   "outputs": [
    {
     "data": {
      "text/plain": [
       "['G', 'GO', 'GOW', 'GW', 'O', 'OW', 'W']"
      ]
     },
     "execution_count": 4,
     "metadata": {},
     "output_type": "execute_result"
    }
   ],
   "source": [
    "class_names = test_data.class_names\n",
    "class_names"
   ]
  },
  {
   "cell_type": "code",
   "execution_count": 14,
   "metadata": {
    "id": "B2yxcsV8xnEh"
   },
   "outputs": [],
   "source": [
    "# Create early stopping callback\n",
    "early_stopping = tf.keras.callbacks.EarlyStopping(monitor=\"val_accuracy\",\n",
    "                                                  patience=3)"
   ]
  },
  {
   "cell_type": "code",
   "execution_count": 6,
   "metadata": {
    "id": "BWr6Ugxrxx8O"
   },
   "outputs": [],
   "source": [
    "# Creating data augmentation layer\n",
    "from tensorflow.keras import layers\n",
    "from tensorflow.keras.layers.experimental import preprocessing\n",
    "from tensorflow.keras.models import Sequential\n",
    "\n",
    "# Setup data augmentation\n",
    "data_augmentation = Sequential([\n",
    "    preprocessing.RandomFlip(\"horizontal\")\n",
    "], name =\"data_augmentation\")"
   ]
  },
  {
   "cell_type": "code",
   "execution_count": 7,
   "metadata": {
    "id": "smDcgAEux4A4"
   },
   "outputs": [],
   "source": [
    "# Function to plot loss cureves\n",
    "import matplotlib.pyplot as plt\n",
    "\n",
    "# Plot the validation and training curves\n",
    "def plot_loss_curves(history):\n",
    "  \"\"\"\n",
    "  Returns seperate loss curves for training and validation metrics.\n",
    "\n",
    "  Args:\n",
    "    history: Tensorflow History object.\n",
    "  \n",
    "  Returns:\n",
    "    Plot of training/validation loss and accuracy metrics\n",
    "  \"\"\"\n",
    "  loss = history.history[\"loss\"]\n",
    "  val_loss = history.history[\"val_loss\"]\n",
    "\n",
    "  accuracy = history.history[\"accuracy\"]\n",
    "  val_accuracy= history.history[\"val_accuracy\"]\n",
    "\n",
    "  epochs = range(len(history.history[\"loss\"]))\n",
    "\n",
    "  # Plot loss\n",
    "  plt.plot(epochs, loss, label=\"training_loss\")\n",
    "  plt.plot(epochs, val_loss, label=\"val_loss\")\n",
    "  plt.title(\"Loss\")\n",
    "  plt.xlabel(\"Epochs\")\n",
    "  plt.legend()\n",
    "\n",
    "  # Plot accuracy\n",
    "  plt.figure()\n",
    "  plt.plot(epochs, accuracy, label=\"training_accuracy\")\n",
    "  plt.plot(epochs, val_accuracy, label=\"val_accuracy\")\n",
    "  plt.title(\"Accuracy\")\n",
    "  plt.xlabel(\"Epochs\")\n",
    "  plt.legend()"
   ]
  },
  {
   "cell_type": "code",
   "execution_count": 8,
   "metadata": {
    "id": "iquODln0ySjT"
   },
   "outputs": [],
   "source": [
    "# Create a confusion metrics\n",
    "\n",
    "import itertools\n",
    "from sklearn.metrics import confusion_matrix\n",
    "\n",
    "\n",
    "def make_confusion_matrix(y_true, y_pred, classes=None, figsize=(10, 10), text_size=15):\n",
    "\n",
    "\n",
    "  # Create the confusion matrix\n",
    "  cm = confusion_matrix(y_true, y_preds)\n",
    "  cm_norm = cm.astype(\"float\") / cm.sum(axis=1)[:, np.newaxis]\n",
    "  n_classes = cm.shape[0]\n",
    "\n",
    "  # Let's prettify it\n",
    "  fig, ax = plt.subplots(figsize=figsize)\n",
    "  # Create a matrix plot\n",
    "  cax = ax.matshow(cm, cmap=plt.cm.Blues) \n",
    "  fig.colorbar(cax)\n",
    "\n",
    "\n",
    "  # Set labels to be claseses\n",
    "  if classes:\n",
    "    labels = classes\n",
    "  else:\n",
    "    labels = np.arange(cm.shape[0])\n",
    "\n",
    "  # Label the axes\n",
    "  ax.set(title=\"Confusion Matrix\",\n",
    "        xlabel=\"Predicted label\",\n",
    "        ylabel=\"True label\",\n",
    "        xticks=np.arange(n_classes),\n",
    "        yticks=np.arange(n_classes),\n",
    "        xticklabels=labels,\n",
    "        yticklabels=labels)\n",
    "\n",
    "  # Set x-axis labels to bottom\n",
    "  ax.xaxis.set_label_position(\"bottom\")\n",
    "  ax.xaxis.tick_bottom()\n",
    "\n",
    "  # Adjust label size\n",
    "  ax.xaxis.label.set_size(text_size)\n",
    "  ax.yaxis.label.set_size(text_size)\n",
    "  ax.title.set_size(text_size)\n",
    "\n",
    "  # Set threshold for different colors\n",
    "  threshold = (cm.max() + cm.min()) / 2.\n",
    "\n",
    "  # Plot the text on each cell\n",
    "  for i, j in itertools.product(range(cm.shape[0]), range(cm.shape[1])):\n",
    "    plt.text(j, i, f\"{cm[i, j]} ({cm_norm[i, j]*100:.1f}%)\",\n",
    "            horizontalalignment=\"center\",\n",
    "            color=\"white\" if cm[i, j] > threshold else \"black\",\n",
    "            size=text_size)"
   ]
  },
  {
   "cell_type": "code",
   "execution_count": 26,
   "metadata": {
    "colab": {
     "base_uri": "https://localhost:8080/"
    },
    "id": "JYCycx9Jyggd",
    "outputId": "f49522f4-d803-41ef-b9fa-f87cf1ac990d",
    "tags": []
   },
   "outputs": [
    {
     "name": "stdout",
     "output_type": "stream",
     "text": [
      "Epoch 1/14\n",
      "30/30 [==============================] - 9s 119ms/step - loss: 1.9715 - accuracy: 0.1695 - val_loss: 1.7248 - val_accuracy: 0.3750\n",
      "Epoch 2/14\n",
      "30/30 [==============================] - 2s 81ms/step - loss: 1.6011 - accuracy: 0.3898 - val_loss: 1.5279 - val_accuracy: 0.3125\n",
      "Epoch 3/14\n",
      "30/30 [==============================] - 2s 79ms/step - loss: 1.4598 - accuracy: 0.4746 - val_loss: 1.4578 - val_accuracy: 0.3750\n",
      "Epoch 4/14\n",
      "30/30 [==============================] - 3s 86ms/step - loss: 1.3540 - accuracy: 0.4407 - val_loss: 1.3969 - val_accuracy: 0.4375\n",
      "Epoch 5/14\n",
      "30/30 [==============================] - 2s 82ms/step - loss: 1.2594 - accuracy: 0.5085 - val_loss: 1.3228 - val_accuracy: 0.4375\n",
      "Epoch 6/14\n",
      "30/30 [==============================] - 2s 72ms/step - loss: 1.2281 - accuracy: 0.4576 - val_loss: 1.2641 - val_accuracy: 0.5000\n",
      "Epoch 7/14\n",
      "30/30 [==============================] - 2s 74ms/step - loss: 1.1539 - accuracy: 0.5593 - val_loss: 1.2411 - val_accuracy: 0.5000\n",
      "Epoch 8/14\n",
      "30/30 [==============================] - 2s 74ms/step - loss: 1.1036 - accuracy: 0.6102 - val_loss: 1.1730 - val_accuracy: 0.5000\n",
      "Epoch 9/14\n",
      "30/30 [==============================] - 2s 74ms/step - loss: 1.0606 - accuracy: 0.6441 - val_loss: 1.1795 - val_accuracy: 0.5000\n",
      "Epoch 10/14\n",
      "30/30 [==============================] - 2s 73ms/step - loss: 1.0127 - accuracy: 0.5424 - val_loss: 1.1454 - val_accuracy: 0.6875\n",
      "Epoch 11/14\n",
      "30/30 [==============================] - 2s 71ms/step - loss: 0.9602 - accuracy: 0.6949 - val_loss: 1.1325 - val_accuracy: 0.5625\n",
      "Epoch 12/14\n",
      "30/30 [==============================] - 2s 75ms/step - loss: 0.9758 - accuracy: 0.5932 - val_loss: 1.1384 - val_accuracy: 0.5625\n",
      "Epoch 13/14\n",
      "30/30 [==============================] - 2s 75ms/step - loss: 0.9080 - accuracy: 0.6949 - val_loss: 1.1085 - val_accuracy: 0.6250\n",
      "Epoch 14/14\n",
      "30/30 [==============================] - 2s 71ms/step - loss: 0.9172 - accuracy: 0.6610 - val_loss: 1.0966 - val_accuracy: 0.6875\n"
     ]
    }
   ],
   "source": [
    "# EfficientNetB2\n",
    "# Setup the base model\n",
    "base_model = tf.keras.applications.EfficientNetB2(include_top=False)\n",
    "base_model.trainable = False\n",
    "\n",
    "# Setup model architecture with trainable top layers\n",
    "inputs = layers.Input(shape=(224, 224, 3), name=\"input_layer\")\n",
    "x = data_augmentation(inputs) \n",
    "x = base_model(x, training=False) \n",
    "x = layers.GlobalAveragePooling2D(name=\"global_avg_pool_layer\")(x)\n",
    "outputs = layers.Dense(7, activation=\"softmax\", name=\"output_layer\")(x)\n",
    "model = tf.keras.Model(inputs, outputs)\n",
    "\n",
    "# Compile\n",
    "model.compile(loss=\"categorical_crossentropy\",\n",
    "              optimizer=tf.optimizers.Adam(),\n",
    "              metrics=[\"accuracy\"])\n",
    "\n",
    "# Fit\n",
    "history_model = model.fit(train_data,\n",
    "                               epochs=14,\n",
    "                               validation_data=test_data,\n",
    "                               validation_steps=len(test_data))\n",
    "                               # callbacks=[early_stopping])"
   ]
  },
  {
   "cell_type": "code",
   "execution_count": 27,
   "metadata": {},
   "outputs": [
    {
     "data": {
      "image/png": "[encoded data removed]",
      "text/plain": [
       "<Figure size 640x480 with 1 Axes>"
      ]
     },
     "metadata": {},
     "output_type": "display_data"
    },
    {
     "data": {
      "image/png": "[encoded data removed]",
      "text/plain": [
       "<Figure size 640x480 with 1 Axes>"
      ]
     },
     "metadata": {},
     "output_type": "display_data"
    }
   ],
   "source": [
    "plot_loss_curves(history_model)"
   ]
  },
  {
   "cell_type": "code",
   "execution_count": 28,
   "metadata": {
    "colab": {
     "base_uri": "https://localhost:8080/"
    },
    "id": "dfP9IiuAzfyq",
    "outputId": "a7efb037-11fa-4a65-9aa5-c815dc150ff4"
   },
   "outputs": [
    {
     "data": {
      "text/plain": [
       "array([[0.12134054, 0.16263612, 0.06628589, 0.0040511 , 0.479682  ,\n",
       "        0.09551912, 0.07048526],\n",
       "       [0.6874544 , 0.01858488, 0.15353915, 0.0696241 , 0.02708022,\n",
       "        0.00649795, 0.03721931],\n",
       "       [0.00869643, 0.269074  , 0.63473094, 0.06358511, 0.00551548,\n",
       "        0.01408603, 0.004312  ],\n",
       "       [0.04618514, 0.41148415, 0.37823147, 0.04182191, 0.05073053,\n",
       "        0.04509215, 0.02645473],\n",
       "       [0.015523  , 0.24828728, 0.6095916 , 0.0550072 , 0.01752683,\n",
       "        0.0415622 , 0.01250186]], dtype=float32)"
      ]
     },
     "execution_count": 28,
     "metadata": {},
     "output_type": "execute_result"
    }
   ],
   "source": [
    "# Making predictions with our best model so far\n",
    "y_probs = model.predict(test_data)\n",
    "\n",
    "# View the first predcitons\n",
    "y_probs[:5]"
   ]
  },
  {
   "cell_type": "code",
   "execution_count": 29,
   "metadata": {
    "colab": {
     "base_uri": "https://localhost:8080/"
    },
    "id": "tvXt-iHgzg-X",
    "outputId": "c3ee5386-8ff1-4339-feb2-9dd7fd738d3c"
   },
   "outputs": [
    {
     "data": {
      "text/plain": [
       "array([4, 0, 2, 1, 2, 4, 2, 1, 3, 4, 5, 5, 5, 5, 6, 6], dtype=int64)"
      ]
     },
     "execution_count": 29,
     "metadata": {},
     "output_type": "execute_result"
    }
   ],
   "source": [
    "y_preds = y_probs.argmax(axis=1)\n",
    "y_preds"
   ]
  },
  {
   "cell_type": "code",
   "execution_count": 30,
   "metadata": {
    "colab": {
     "base_uri": "https://localhost:8080/"
    },
    "id": "WB9eQWFXzndC",
    "outputId": "02929ecc-2361-4141-9967-efead99acf02"
   },
   "outputs": [
    {
     "data": {
      "text/plain": [
       "[0, 0, 1, 1, 2, 2, 2, 3, 3, 4]"
      ]
     },
     "execution_count": 30,
     "metadata": {},
     "output_type": "execute_result"
    }
   ],
   "source": [
    "# unbatching test data batch to get y_labels\n",
    "y_labels = []\n",
    "for images, labels in test_data.unbatch():\n",
    "  y_labels.append(labels.numpy().argmax())\n",
    "y_labels[:10]"
   ]
  },
  {
   "cell_type": "code",
   "execution_count": 31,
   "metadata": {},
   "outputs": [],
   "source": [
    "import numpy as np"
   ]
  },
  {
   "cell_type": "code",
   "execution_count": 32,
   "metadata": {},
   "outputs": [
    {
     "data": {
      "image/png": "[encoded data removed]",
      "text/plain": [
       "<Figure size 1500x1500 with 2 Axes>"
      ]
     },
     "metadata": {},
     "output_type": "display_data"
    }
   ],
   "source": [
    "# make a good confusion matrix\n",
    "make_confusion_matrix(y_true=y_labels,\n",
    "                      y_pred=y_preds,\n",
    "                      classes=class_names,\n",
    "                      figsize=(15, 15),\n",
    "                      text_size=10)"
   ]
  },
  {
   "cell_type": "code",
   "execution_count": 33,
   "metadata": {
    "colab": {
     "base_uri": "https://localhost:8080/",
     "height": 1000
    },
    "id": "uof5jSigz8LF",
    "outputId": "ed92ff8f-c6ce-431d-c3f2-56ae33f19a07",
    "tags": []
   },
   "outputs": [
    {
     "name": "stdout",
     "output_type": "stream",
     "text": [
      "INFO:tensorflow:Assets written to: ./flow_type_model_channel_3_final/assets\n"
     ]
    }
   ],
   "source": [
    "# Saving model to Goodgle Drive\n",
    "save_dir = \"./flow_type_model_channel_3_final/\"\n",
    "model.save(save_dir)"
   ]
  },
  {
   "cell_type": "code",
   "execution_count": 30,
   "metadata": {
    "collapsed": true,
    "jupyter": {
     "outputs_hidden": true
    },
    "tags": []
   },
   "outputs": [
    {
     "name": "stdout",
     "output_type": "stream",
     "text": [
      "WARNING:tensorflow:Using a while_loop for converting RngReadAndSkip cause there is no registered converter for this op.\n"
     ]
    },
    {
     "name": "stderr",
     "output_type": "stream",
     "text": [
      "WARNING:tensorflow:Using a while_loop for converting RngReadAndSkip cause there is no registered converter for this op.\n"
     ]
    },
    {
     "name": "stdout",
     "output_type": "stream",
     "text": [
      "WARNING:tensorflow:Using a while_loop for converting Bitcast cause there is no registered converter for this op.\n"
     ]
    },
    {
     "name": "stderr",
     "output_type": "stream",
     "text": [
      "WARNING:tensorflow:Using a while_loop for converting Bitcast cause there is no registered converter for this op.\n"
     ]
    },
    {
     "name": "stdout",
     "output_type": "stream",
     "text": [
      "WARNING:tensorflow:Using a while_loop for converting Bitcast cause there is no registered converter for this op.\n"
     ]
    },
    {
     "name": "stderr",
     "output_type": "stream",
     "text": [
      "WARNING:tensorflow:Using a while_loop for converting Bitcast cause there is no registered converter for this op.\n"
     ]
    },
    {
     "name": "stdout",
     "output_type": "stream",
     "text": [
      "WARNING:tensorflow:Using a while_loop for converting StatelessRandomUniformFullIntV2 cause there is no registered converter for this op.\n"
     ]
    },
    {
     "name": "stderr",
     "output_type": "stream",
     "text": [
      "WARNING:tensorflow:Using a while_loop for converting StatelessRandomUniformFullIntV2 cause there is no registered converter for this op.\n"
     ]
    },
    {
     "name": "stdout",
     "output_type": "stream",
     "text": [
      "WARNING:tensorflow:Using a while_loop for converting StatelessRandomGetKeyCounter cause there is no registered converter for this op.\n"
     ]
    },
    {
     "name": "stderr",
     "output_type": "stream",
     "text": [
      "WARNING:tensorflow:Using a while_loop for converting StatelessRandomGetKeyCounter cause there is no registered converter for this op.\n"
     ]
    },
    {
     "name": "stdout",
     "output_type": "stream",
     "text": [
      "WARNING:tensorflow:Using a while_loop for converting StatelessRandomUniformV2 cause there is no registered converter for this op.\n"
     ]
    },
    {
     "name": "stderr",
     "output_type": "stream",
     "text": [
      "WARNING:tensorflow:Using a while_loop for converting StatelessRandomUniformV2 cause there is no registered converter for this op.\n"
     ]
    },
    {
     "name": "stdout",
     "output_type": "stream",
     "text": [
      "WARNING:tensorflow:Using a while_loop for converting RngReadAndSkip cause there is no registered converter for this op.\n"
     ]
    },
    {
     "name": "stderr",
     "output_type": "stream",
     "text": [
      "WARNING:tensorflow:Using a while_loop for converting RngReadAndSkip cause there is no registered converter for this op.\n"
     ]
    },
    {
     "name": "stdout",
     "output_type": "stream",
     "text": [
      "WARNING:tensorflow:Using a while_loop for converting Bitcast cause there is no registered converter for this op.\n"
     ]
    },
    {
     "name": "stderr",
     "output_type": "stream",
     "text": [
      "WARNING:tensorflow:Using a while_loop for converting Bitcast cause there is no registered converter for this op.\n"
     ]
    },
    {
     "name": "stdout",
     "output_type": "stream",
     "text": [
      "WARNING:tensorflow:Using a while_loop for converting Bitcast cause there is no registered converter for this op.\n"
     ]
    },
    {
     "name": "stderr",
     "output_type": "stream",
     "text": [
      "WARNING:tensorflow:Using a while_loop for converting Bitcast cause there is no registered converter for this op.\n"
     ]
    },
    {
     "name": "stdout",
     "output_type": "stream",
     "text": [
      "WARNING:tensorflow:Using a while_loop for converting StatelessRandomUniformV2 cause there is no registered converter for this op.\n"
     ]
    },
    {
     "name": "stderr",
     "output_type": "stream",
     "text": [
      "WARNING:tensorflow:Using a while_loop for converting StatelessRandomUniformV2 cause there is no registered converter for this op.\n"
     ]
    },
    {
     "name": "stdout",
     "output_type": "stream",
     "text": [
      "WARNING:tensorflow:Using a while_loop for converting ImageProjectiveTransformV3 cause there is no registered converter for this op.\n"
     ]
    },
    {
     "name": "stderr",
     "output_type": "stream",
     "text": [
      "WARNING:tensorflow:Using a while_loop for converting ImageProjectiveTransformV3 cause there is no registered converter for this op.\n"
     ]
    },
    {
     "name": "stdout",
     "output_type": "stream",
     "text": [
      "WARNING:tensorflow:Using a while_loop for converting RngReadAndSkip cause there is no registered converter for this op.\n"
     ]
    },
    {
     "name": "stderr",
     "output_type": "stream",
     "text": [
      "WARNING:tensorflow:Using a while_loop for converting RngReadAndSkip cause there is no registered converter for this op.\n"
     ]
    },
    {
     "name": "stdout",
     "output_type": "stream",
     "text": [
      "WARNING:tensorflow:Using a while_loop for converting Bitcast cause there is no registered converter for this op.\n"
     ]
    },
    {
     "name": "stderr",
     "output_type": "stream",
     "text": [
      "WARNING:tensorflow:Using a while_loop for converting Bitcast cause there is no registered converter for this op.\n"
     ]
    },
    {
     "name": "stdout",
     "output_type": "stream",
     "text": [
      "WARNING:tensorflow:Using a while_loop for converting Bitcast cause there is no registered converter for this op.\n"
     ]
    },
    {
     "name": "stderr",
     "output_type": "stream",
     "text": [
      "WARNING:tensorflow:Using a while_loop for converting Bitcast cause there is no registered converter for this op.\n"
     ]
    },
    {
     "name": "stdout",
     "output_type": "stream",
     "text": [
      "WARNING:tensorflow:Using a while_loop for converting StatelessRandomUniformV2 cause there is no registered converter for this op.\n"
     ]
    },
    {
     "name": "stderr",
     "output_type": "stream",
     "text": [
      "WARNING:tensorflow:Using a while_loop for converting StatelessRandomUniformV2 cause there is no registered converter for this op.\n"
     ]
    },
    {
     "name": "stdout",
     "output_type": "stream",
     "text": [
      "WARNING:tensorflow:Using a while_loop for converting ImageProjectiveTransformV3 cause there is no registered converter for this op.\n"
     ]
    },
    {
     "name": "stderr",
     "output_type": "stream",
     "text": [
      "WARNING:tensorflow:Using a while_loop for converting ImageProjectiveTransformV3 cause there is no registered converter for this op.\n"
     ]
    },
    {
     "name": "stdout",
     "output_type": "stream",
     "text": [
      "WARNING:tensorflow:Using a while_loop for converting RngReadAndSkip cause there is no registered converter for this op.\n"
     ]
    },
    {
     "name": "stderr",
     "output_type": "stream",
     "text": [
      "WARNING:tensorflow:Using a while_loop for converting RngReadAndSkip cause there is no registered converter for this op.\n"
     ]
    },
    {
     "name": "stdout",
     "output_type": "stream",
     "text": [
      "WARNING:tensorflow:Using a while_loop for converting Bitcast cause there is no registered converter for this op.\n"
     ]
    },
    {
     "name": "stderr",
     "output_type": "stream",
     "text": [
      "WARNING:tensorflow:Using a while_loop for converting Bitcast cause there is no registered converter for this op.\n"
     ]
    },
    {
     "name": "stdout",
     "output_type": "stream",
     "text": [
      "WARNING:tensorflow:Using a while_loop for converting Bitcast cause there is no registered converter for this op.\n"
     ]
    },
    {
     "name": "stderr",
     "output_type": "stream",
     "text": [
      "WARNING:tensorflow:Using a while_loop for converting Bitcast cause there is no registered converter for this op.\n"
     ]
    },
    {
     "name": "stdout",
     "output_type": "stream",
     "text": [
      "WARNING:tensorflow:Using a while_loop for converting StatelessRandomUniformV2 cause there is no registered converter for this op.\n"
     ]
    },
    {
     "name": "stderr",
     "output_type": "stream",
     "text": [
      "WARNING:tensorflow:Using a while_loop for converting StatelessRandomUniformV2 cause there is no registered converter for this op.\n"
     ]
    },
    {
     "name": "stdout",
     "output_type": "stream",
     "text": [
      "WARNING:tensorflow:Using a while_loop for converting ImageProjectiveTransformV3 cause there is no registered converter for this op.\n"
     ]
    },
    {
     "name": "stderr",
     "output_type": "stream",
     "text": [
      "WARNING:tensorflow:Using a while_loop for converting ImageProjectiveTransformV3 cause there is no registered converter for this op.\n"
     ]
    },
    {
     "name": "stdout",
     "output_type": "stream",
     "text": [
      "WARNING:tensorflow:Using a while_loop for converting RngReadAndSkip cause there is no registered converter for this op.\n"
     ]
    },
    {
     "name": "stderr",
     "output_type": "stream",
     "text": [
      "WARNING:tensorflow:Using a while_loop for converting RngReadAndSkip cause there is no registered converter for this op.\n"
     ]
    },
    {
     "name": "stdout",
     "output_type": "stream",
     "text": [
      "WARNING:tensorflow:Using a while_loop for converting Bitcast cause there is no registered converter for this op.\n"
     ]
    },
    {
     "name": "stderr",
     "output_type": "stream",
     "text": [
      "WARNING:tensorflow:Using a while_loop for converting Bitcast cause there is no registered converter for this op.\n"
     ]
    },
    {
     "name": "stdout",
     "output_type": "stream",
     "text": [
      "WARNING:tensorflow:Using a while_loop for converting Bitcast cause there is no registered converter for this op.\n"
     ]
    },
    {
     "name": "stderr",
     "output_type": "stream",
     "text": [
      "WARNING:tensorflow:Using a while_loop for converting Bitcast cause there is no registered converter for this op.\n"
     ]
    },
    {
     "name": "stdout",
     "output_type": "stream",
     "text": [
      "WARNING:tensorflow:Using a while_loop for converting StatelessRandomUniformV2 cause there is no registered converter for this op.\n"
     ]
    },
    {
     "name": "stderr",
     "output_type": "stream",
     "text": [
      "WARNING:tensorflow:Using a while_loop for converting StatelessRandomUniformV2 cause there is no registered converter for this op.\n"
     ]
    },
    {
     "name": "stdout",
     "output_type": "stream",
     "text": [
      "WARNING:tensorflow:Using a while_loop for converting ImageProjectiveTransformV3 cause there is no registered converter for this op.\n"
     ]
    },
    {
     "name": "stderr",
     "output_type": "stream",
     "text": [
      "WARNING:tensorflow:Using a while_loop for converting ImageProjectiveTransformV3 cause there is no registered converter for this op.\n"
     ]
    },
    {
     "name": "stdout",
     "output_type": "stream",
     "text": [
      "WARNING:tensorflow:Using a while_loop for converting RngReadAndSkip cause there is no registered converter for this op.\n"
     ]
    },
    {
     "name": "stderr",
     "output_type": "stream",
     "text": [
      "WARNING:tensorflow:Using a while_loop for converting RngReadAndSkip cause there is no registered converter for this op.\n"
     ]
    },
    {
     "name": "stdout",
     "output_type": "stream",
     "text": [
      "WARNING:tensorflow:Using a while_loop for converting Bitcast cause there is no registered converter for this op.\n"
     ]
    },
    {
     "name": "stderr",
     "output_type": "stream",
     "text": [
      "WARNING:tensorflow:Using a while_loop for converting Bitcast cause there is no registered converter for this op.\n"
     ]
    },
    {
     "name": "stdout",
     "output_type": "stream",
     "text": [
      "WARNING:tensorflow:Using a while_loop for converting Bitcast cause there is no registered converter for this op.\n"
     ]
    },
    {
     "name": "stderr",
     "output_type": "stream",
     "text": [
      "WARNING:tensorflow:Using a while_loop for converting Bitcast cause there is no registered converter for this op.\n"
     ]
    },
    {
     "name": "stdout",
     "output_type": "stream",
     "text": [
      "WARNING:tensorflow:Using a while_loop for converting StatelessRandomUniformFullIntV2 cause there is no registered converter for this op.\n"
     ]
    },
    {
     "name": "stderr",
     "output_type": "stream",
     "text": [
      "WARNING:tensorflow:Using a while_loop for converting StatelessRandomUniformFullIntV2 cause there is no registered converter for this op.\n"
     ]
    },
    {
     "name": "stdout",
     "output_type": "stream",
     "text": [
      "WARNING:tensorflow:Using a while_loop for converting StatelessRandomGetKeyCounter cause there is no registered converter for this op.\n"
     ]
    },
    {
     "name": "stderr",
     "output_type": "stream",
     "text": [
      "WARNING:tensorflow:Using a while_loop for converting StatelessRandomGetKeyCounter cause there is no registered converter for this op.\n"
     ]
    },
    {
     "name": "stdout",
     "output_type": "stream",
     "text": [
      "WARNING:tensorflow:Using a while_loop for converting StatelessRandomUniformV2 cause there is no registered converter for this op.\n"
     ]
    },
    {
     "name": "stderr",
     "output_type": "stream",
     "text": [
      "WARNING:tensorflow:Using a while_loop for converting StatelessRandomUniformV2 cause there is no registered converter for this op.\n"
     ]
    },
    {
     "name": "stdout",
     "output_type": "stream",
     "text": [
      "WARNING:tensorflow:Using a while_loop for converting RngReadAndSkip cause there is no registered converter for this op.\n"
     ]
    },
    {
     "name": "stderr",
     "output_type": "stream",
     "text": [
      "WARNING:tensorflow:Using a while_loop for converting RngReadAndSkip cause there is no registered converter for this op.\n"
     ]
    },
    {
     "name": "stdout",
     "output_type": "stream",
     "text": [
      "WARNING:tensorflow:Using a while_loop for converting Bitcast cause there is no registered converter for this op.\n"
     ]
    },
    {
     "name": "stderr",
     "output_type": "stream",
     "text": [
      "WARNING:tensorflow:Using a while_loop for converting Bitcast cause there is no registered converter for this op.\n"
     ]
    },
    {
     "name": "stdout",
     "output_type": "stream",
     "text": [
      "WARNING:tensorflow:Using a while_loop for converting Bitcast cause there is no registered converter for this op.\n"
     ]
    },
    {
     "name": "stderr",
     "output_type": "stream",
     "text": [
      "WARNING:tensorflow:Using a while_loop for converting Bitcast cause there is no registered converter for this op.\n"
     ]
    },
    {
     "name": "stdout",
     "output_type": "stream",
     "text": [
      "WARNING:tensorflow:Using a while_loop for converting StatelessRandomUniformV2 cause there is no registered converter for this op.\n"
     ]
    },
    {
     "name": "stderr",
     "output_type": "stream",
     "text": [
      "WARNING:tensorflow:Using a while_loop for converting StatelessRandomUniformV2 cause there is no registered converter for this op.\n"
     ]
    },
    {
     "name": "stdout",
     "output_type": "stream",
     "text": [
      "WARNING:tensorflow:Using a while_loop for converting ImageProjectiveTransformV3 cause there is no registered converter for this op.\n"
     ]
    },
    {
     "name": "stderr",
     "output_type": "stream",
     "text": [
      "WARNING:tensorflow:Using a while_loop for converting ImageProjectiveTransformV3 cause there is no registered converter for this op.\n"
     ]
    },
    {
     "name": "stdout",
     "output_type": "stream",
     "text": [
      "WARNING:tensorflow:Using a while_loop for converting RngReadAndSkip cause there is no registered converter for this op.\n"
     ]
    },
    {
     "name": "stderr",
     "output_type": "stream",
     "text": [
      "WARNING:tensorflow:Using a while_loop for converting RngReadAndSkip cause there is no registered converter for this op.\n"
     ]
    },
    {
     "name": "stdout",
     "output_type": "stream",
     "text": [
      "WARNING:tensorflow:Using a while_loop for converting Bitcast cause there is no registered converter for this op.\n"
     ]
    },
    {
     "name": "stderr",
     "output_type": "stream",
     "text": [
      "WARNING:tensorflow:Using a while_loop for converting Bitcast cause there is no registered converter for this op.\n"
     ]
    },
    {
     "name": "stdout",
     "output_type": "stream",
     "text": [
      "WARNING:tensorflow:Using a while_loop for converting Bitcast cause there is no registered converter for this op.\n"
     ]
    },
    {
     "name": "stderr",
     "output_type": "stream",
     "text": [
      "WARNING:tensorflow:Using a while_loop for converting Bitcast cause there is no registered converter for this op.\n"
     ]
    },
    {
     "name": "stdout",
     "output_type": "stream",
     "text": [
      "WARNING:tensorflow:Using a while_loop for converting StatelessRandomUniformV2 cause there is no registered converter for this op.\n"
     ]
    },
    {
     "name": "stderr",
     "output_type": "stream",
     "text": [
      "WARNING:tensorflow:Using a while_loop for converting StatelessRandomUniformV2 cause there is no registered converter for this op.\n"
     ]
    },
    {
     "name": "stdout",
     "output_type": "stream",
     "text": [
      "WARNING:tensorflow:Using a while_loop for converting ImageProjectiveTransformV3 cause there is no registered converter for this op.\n"
     ]
    },
    {
     "name": "stderr",
     "output_type": "stream",
     "text": [
      "WARNING:tensorflow:Using a while_loop for converting ImageProjectiveTransformV3 cause there is no registered converter for this op.\n"
     ]
    },
    {
     "name": "stdout",
     "output_type": "stream",
     "text": [
      "WARNING:tensorflow:Using a while_loop for converting RngReadAndSkip cause there is no registered converter for this op.\n"
     ]
    },
    {
     "name": "stderr",
     "output_type": "stream",
     "text": [
      "WARNING:tensorflow:Using a while_loop for converting RngReadAndSkip cause there is no registered converter for this op.\n"
     ]
    },
    {
     "name": "stdout",
     "output_type": "stream",
     "text": [
      "WARNING:tensorflow:Using a while_loop for converting Bitcast cause there is no registered converter for this op.\n"
     ]
    },
    {
     "name": "stderr",
     "output_type": "stream",
     "text": [
      "WARNING:tensorflow:Using a while_loop for converting Bitcast cause there is no registered converter for this op.\n"
     ]
    },
    {
     "name": "stdout",
     "output_type": "stream",
     "text": [
      "WARNING:tensorflow:Using a while_loop for converting Bitcast cause there is no registered converter for this op.\n"
     ]
    },
    {
     "name": "stderr",
     "output_type": "stream",
     "text": [
      "WARNING:tensorflow:Using a while_loop for converting Bitcast cause there is no registered converter for this op.\n"
     ]
    },
    {
     "name": "stdout",
     "output_type": "stream",
     "text": [
      "WARNING:tensorflow:Using a while_loop for converting StatelessRandomUniformFullIntV2 cause there is no registered converter for this op.\n"
     ]
    },
    {
     "name": "stderr",
     "output_type": "stream",
     "text": [
      "WARNING:tensorflow:Using a while_loop for converting StatelessRandomUniformFullIntV2 cause there is no registered converter for this op.\n"
     ]
    },
    {
     "name": "stdout",
     "output_type": "stream",
     "text": [
      "WARNING:tensorflow:Using a while_loop for converting StatelessRandomGetKeyCounter cause there is no registered converter for this op.\n"
     ]
    },
    {
     "name": "stderr",
     "output_type": "stream",
     "text": [
      "WARNING:tensorflow:Using a while_loop for converting StatelessRandomGetKeyCounter cause there is no registered converter for this op.\n"
     ]
    },
    {
     "name": "stdout",
     "output_type": "stream",
     "text": [
      "WARNING:tensorflow:Using a while_loop for converting StatelessRandomUniformV2 cause there is no registered converter for this op.\n"
     ]
    },
    {
     "name": "stderr",
     "output_type": "stream",
     "text": [
      "WARNING:tensorflow:Using a while_loop for converting StatelessRandomUniformV2 cause there is no registered converter for this op.\n"
     ]
    },
    {
     "name": "stdout",
     "output_type": "stream",
     "text": [
      "WARNING:tensorflow:Using a while_loop for converting RngReadAndSkip cause there is no registered converter for this op.\n"
     ]
    },
    {
     "name": "stderr",
     "output_type": "stream",
     "text": [
      "WARNING:tensorflow:Using a while_loop for converting RngReadAndSkip cause there is no registered converter for this op.\n"
     ]
    },
    {
     "name": "stdout",
     "output_type": "stream",
     "text": [
      "WARNING:tensorflow:Using a while_loop for converting Bitcast cause there is no registered converter for this op.\n"
     ]
    },
    {
     "name": "stderr",
     "output_type": "stream",
     "text": [
      "WARNING:tensorflow:Using a while_loop for converting Bitcast cause there is no registered converter for this op.\n"
     ]
    },
    {
     "name": "stdout",
     "output_type": "stream",
     "text": [
      "WARNING:tensorflow:Using a while_loop for converting Bitcast cause there is no registered converter for this op.\n"
     ]
    },
    {
     "name": "stderr",
     "output_type": "stream",
     "text": [
      "WARNING:tensorflow:Using a while_loop for converting Bitcast cause there is no registered converter for this op.\n"
     ]
    },
    {
     "name": "stdout",
     "output_type": "stream",
     "text": [
      "WARNING:tensorflow:Using a while_loop for converting StatelessRandomUniformV2 cause there is no registered converter for this op.\n"
     ]
    },
    {
     "name": "stderr",
     "output_type": "stream",
     "text": [
      "WARNING:tensorflow:Using a while_loop for converting StatelessRandomUniformV2 cause there is no registered converter for this op.\n"
     ]
    },
    {
     "name": "stdout",
     "output_type": "stream",
     "text": [
      "WARNING:tensorflow:Using a while_loop for converting ImageProjectiveTransformV3 cause there is no registered converter for this op.\n"
     ]
    },
    {
     "name": "stderr",
     "output_type": "stream",
     "text": [
      "WARNING:tensorflow:Using a while_loop for converting ImageProjectiveTransformV3 cause there is no registered converter for this op.\n"
     ]
    },
    {
     "name": "stdout",
     "output_type": "stream",
     "text": [
      "WARNING:tensorflow:Using a while_loop for converting RngReadAndSkip cause there is no registered converter for this op.\n"
     ]
    },
    {
     "name": "stderr",
     "output_type": "stream",
     "text": [
      "WARNING:tensorflow:Using a while_loop for converting RngReadAndSkip cause there is no registered converter for this op.\n"
     ]
    },
    {
     "name": "stdout",
     "output_type": "stream",
     "text": [
      "WARNING:tensorflow:Using a while_loop for converting Bitcast cause there is no registered converter for this op.\n"
     ]
    },
    {
     "name": "stderr",
     "output_type": "stream",
     "text": [
      "WARNING:tensorflow:Using a while_loop for converting Bitcast cause there is no registered converter for this op.\n"
     ]
    },
    {
     "name": "stdout",
     "output_type": "stream",
     "text": [
      "WARNING:tensorflow:Using a while_loop for converting Bitcast cause there is no registered converter for this op.\n"
     ]
    },
    {
     "name": "stderr",
     "output_type": "stream",
     "text": [
      "WARNING:tensorflow:Using a while_loop for converting Bitcast cause there is no registered converter for this op.\n"
     ]
    },
    {
     "name": "stdout",
     "output_type": "stream",
     "text": [
      "WARNING:tensorflow:Using a while_loop for converting StatelessRandomUniformV2 cause there is no registered converter for this op.\n"
     ]
    },
    {
     "name": "stderr",
     "output_type": "stream",
     "text": [
      "WARNING:tensorflow:Using a while_loop for converting StatelessRandomUniformV2 cause there is no registered converter for this op.\n"
     ]
    },
    {
     "name": "stdout",
     "output_type": "stream",
     "text": [
      "WARNING:tensorflow:Using a while_loop for converting ImageProjectiveTransformV3 cause there is no registered converter for this op.\n"
     ]
    },
    {
     "name": "stderr",
     "output_type": "stream",
     "text": [
      "WARNING:tensorflow:Using a while_loop for converting ImageProjectiveTransformV3 cause there is no registered converter for this op.\n"
     ]
    },
    {
     "name": "stdout",
     "output_type": "stream",
     "text": [
      "WARNING:tensorflow:Using a while_loop for converting RngReadAndSkip cause there is no registered converter for this op.\n"
     ]
    },
    {
     "name": "stderr",
     "output_type": "stream",
     "text": [
      "WARNING:tensorflow:Using a while_loop for converting RngReadAndSkip cause there is no registered converter for this op.\n"
     ]
    },
    {
     "name": "stdout",
     "output_type": "stream",
     "text": [
      "WARNING:tensorflow:Using a while_loop for converting Bitcast cause there is no registered converter for this op.\n"
     ]
    },
    {
     "name": "stderr",
     "output_type": "stream",
     "text": [
      "WARNING:tensorflow:Using a while_loop for converting Bitcast cause there is no registered converter for this op.\n"
     ]
    },
    {
     "name": "stdout",
     "output_type": "stream",
     "text": [
      "WARNING:tensorflow:Using a while_loop for converting Bitcast cause there is no registered converter for this op.\n"
     ]
    },
    {
     "name": "stderr",
     "output_type": "stream",
     "text": [
      "WARNING:tensorflow:Using a while_loop for converting Bitcast cause there is no registered converter for this op.\n"
     ]
    },
    {
     "name": "stdout",
     "output_type": "stream",
     "text": [
      "WARNING:tensorflow:Using a while_loop for converting StatelessRandomUniformFullIntV2 cause there is no registered converter for this op.\n"
     ]
    },
    {
     "name": "stderr",
     "output_type": "stream",
     "text": [
      "WARNING:tensorflow:Using a while_loop for converting StatelessRandomUniformFullIntV2 cause there is no registered converter for this op.\n"
     ]
    },
    {
     "name": "stdout",
     "output_type": "stream",
     "text": [
      "WARNING:tensorflow:Using a while_loop for converting StatelessRandomGetKeyCounter cause there is no registered converter for this op.\n"
     ]
    },
    {
     "name": "stderr",
     "output_type": "stream",
     "text": [
      "WARNING:tensorflow:Using a while_loop for converting StatelessRandomGetKeyCounter cause there is no registered converter for this op.\n"
     ]
    },
    {
     "name": "stdout",
     "output_type": "stream",
     "text": [
      "WARNING:tensorflow:Using a while_loop for converting StatelessRandomUniformV2 cause there is no registered converter for this op.\n"
     ]
    },
    {
     "name": "stderr",
     "output_type": "stream",
     "text": [
      "WARNING:tensorflow:Using a while_loop for converting StatelessRandomUniformV2 cause there is no registered converter for this op.\n",
      "WARNING:absl:Found untraced functions such as _update_step_xla, _jit_compiled_convolution_op, _jit_compiled_convolution_op, _jit_compiled_convolution_op, _jit_compiled_convolution_op while saving (showing 5 of 116). These functions will not be directly callable after loading.\n"
     ]
    },
    {
     "name": "stdout",
     "output_type": "stream",
     "text": [
      "INFO:tensorflow:Assets written to: ./flow_type_model_channel_2/assets\n"
     ]
    },
    {
     "name": "stderr",
     "output_type": "stream",
     "text": [
      "INFO:tensorflow:Assets written to: ./flow_type_model_channel_2/assets\n"
     ]
    }
   ],
   "source": [
    "# # Saving model in HDF5 format\n",
    "# save_dir = \"./flow_type_model_channel_3_final/\"\n",
    "# tf.saved_model.save(model, save_dir)"
   ]
  },
  {
   "cell_type": "code",
   "execution_count": 35,
   "metadata": {
    "id": "yUwOLri71Dbe"
   },
   "outputs": [],
   "source": [
    "# Load model\n",
    "loaded_model = tf.keras.models.load_model(save_dir)"
   ]
  },
  {
   "cell_type": "code",
   "execution_count": 36,
   "metadata": {
    "colab": {
     "base_uri": "https://localhost:8080/"
    },
    "id": "98viSENDK9p7",
    "outputId": "4591d112-6bbf-4cbf-9029-3c644e5d0b66",
    "tags": []
   },
   "outputs": [
    {
     "name": "stdout",
     "output_type": "stream",
     "text": [
      "8/8 [==============================] - 2s 70ms/step - loss: 1.0966 - accuracy: 0.6875\n"
     ]
    },
    {
     "data": {
      "text/plain": [
       "[1.0966153144836426, 0.6875]"
      ]
     },
     "execution_count": 36,
     "metadata": {},
     "output_type": "execute_result"
    }
   ],
   "source": [
    "loaded_model.evaluate(test_data)"
   ]
  },
  {
   "cell_type": "code",
   "execution_count": 38,
   "metadata": {
    "colab": {
     "base_uri": "https://localhost:8080/"
    },
    "id": "oYprKip32HTv",
    "outputId": "c36e71f3-d472-43b4-be74-7588d2bfa1f0"
   },
   "outputs": [
    {
     "data": {
      "text/plain": [
       "[b'images_recognition\\\\train_test_17\\\\test\\\\GOW\\\\GOW_09_testPoint.datAcc.ch_3.png',\n",
       " b'images_recognition\\\\train_test_17\\\\test\\\\GOW\\\\GOW_100b_testPoint.datAcc.ch_3.png',\n",
       " b'images_recognition\\\\train_test_17\\\\test\\\\GOW\\\\GOW_149_testPoint.datAcc.ch_3.png',\n",
       " b'images_recognition\\\\train_test_17\\\\test\\\\GO\\\\GO_01b_testPoint.datAcc.ch_3.png',\n",
       " b'images_recognition\\\\train_test_17\\\\test\\\\GO\\\\GO_03_testPoint.datAcc.ch_3.png',\n",
       " b'images_recognition\\\\train_test_17\\\\test\\\\GW\\\\GW_501_testPoint.datAcc.ch_3.png',\n",
       " b'images_recognition\\\\train_test_17\\\\test\\\\GW\\\\GW_502_testPoint.datAcc.ch_3.png',\n",
       " b'images_recognition\\\\train_test_17\\\\test\\\\G\\\\G_00_testPoint.datAcc.ch_3.png',\n",
       " b'images_recognition\\\\train_test_17\\\\test\\\\G\\\\G_05_testPoint.datAcc.ch_3.png',\n",
       " b'images_recognition\\\\train_test_17\\\\test\\\\OW\\\\OW_06b_testPoint.datAcc.ch_3.png']"
      ]
     },
     "execution_count": 38,
     "metadata": {},
     "output_type": "execute_result"
    }
   ],
   "source": [
    "# Get all of the image file paths in the test dataset\n",
    "filepaths = []\n",
    "for filepath in test_data.list_files(\"images_recognition/train_test_17/test/*/*.png\",\n",
    "                                      shuffle=False):\n",
    "  filepaths.append(filepath.numpy())\n",
    "filepaths[:10]\n"
   ]
  },
  {
   "cell_type": "code",
   "execution_count": 39,
   "metadata": {
    "colab": {
     "base_uri": "https://localhost:8080/",
     "height": 423
    },
    "id": "uGR__ClH2d8F",
    "outputId": "557f6103-038c-4888-a814-a697d92ee6f5"
   },
   "outputs": [
    {
     "data": {
      "text/html": [
       "<div>\n",
       "<style scoped>\n",
       "    .dataframe tbody tr th:only-of-type {\n",
       "        vertical-align: middle;\n",
       "    }\n",
       "\n",
       "    .dataframe tbody tr th {\n",
       "        vertical-align: top;\n",
       "    }\n",
       "\n",
       "    .dataframe thead th {\n",
       "        text-align: right;\n",
       "    }\n",
       "</style>\n",
       "<table border=\"1\" class=\"dataframe\">\n",
       "  <thead>\n",
       "    <tr style=\"text-align: right;\">\n",
       "      <th></th>\n",
       "      <th>img_path</th>\n",
       "      <th>y_true</th>\n",
       "      <th>y_pred</th>\n",
       "      <th>pred_conf</th>\n",
       "      <th>y_true_classname</th>\n",
       "      <th>y_pred_classname</th>\n",
       "    </tr>\n",
       "  </thead>\n",
       "  <tbody>\n",
       "    <tr>\n",
       "      <th>0</th>\n",
       "      <td>b'images_recognition\\\\train_test_17\\\\test\\\\GOW...</td>\n",
       "      <td>0</td>\n",
       "      <td>4</td>\n",
       "      <td>0.479682</td>\n",
       "      <td>G</td>\n",
       "      <td>O</td>\n",
       "    </tr>\n",
       "    <tr>\n",
       "      <th>1</th>\n",
       "      <td>b'images_recognition\\\\train_test_17\\\\test\\\\GOW...</td>\n",
       "      <td>0</td>\n",
       "      <td>0</td>\n",
       "      <td>0.687454</td>\n",
       "      <td>G</td>\n",
       "      <td>G</td>\n",
       "    </tr>\n",
       "    <tr>\n",
       "      <th>2</th>\n",
       "      <td>b'images_recognition\\\\train_test_17\\\\test\\\\GOW...</td>\n",
       "      <td>1</td>\n",
       "      <td>2</td>\n",
       "      <td>0.634731</td>\n",
       "      <td>GO</td>\n",
       "      <td>GOW</td>\n",
       "    </tr>\n",
       "    <tr>\n",
       "      <th>3</th>\n",
       "      <td>b'images_recognition\\\\train_test_17\\\\test\\\\GO\\...</td>\n",
       "      <td>1</td>\n",
       "      <td>1</td>\n",
       "      <td>0.411484</td>\n",
       "      <td>GO</td>\n",
       "      <td>GO</td>\n",
       "    </tr>\n",
       "    <tr>\n",
       "      <th>4</th>\n",
       "      <td>b'images_recognition\\\\train_test_17\\\\test\\\\GO\\...</td>\n",
       "      <td>2</td>\n",
       "      <td>2</td>\n",
       "      <td>0.609592</td>\n",
       "      <td>GOW</td>\n",
       "      <td>GOW</td>\n",
       "    </tr>\n",
       "    <tr>\n",
       "      <th>5</th>\n",
       "      <td>b'images_recognition\\\\train_test_17\\\\test\\\\GW\\...</td>\n",
       "      <td>2</td>\n",
       "      <td>4</td>\n",
       "      <td>0.544718</td>\n",
       "      <td>GOW</td>\n",
       "      <td>O</td>\n",
       "    </tr>\n",
       "    <tr>\n",
       "      <th>6</th>\n",
       "      <td>b'images_recognition\\\\train_test_17\\\\test\\\\GW\\...</td>\n",
       "      <td>2</td>\n",
       "      <td>2</td>\n",
       "      <td>0.876113</td>\n",
       "      <td>GOW</td>\n",
       "      <td>GOW</td>\n",
       "    </tr>\n",
       "    <tr>\n",
       "      <th>7</th>\n",
       "      <td>b'images_recognition\\\\train_test_17\\\\test\\\\G\\\\...</td>\n",
       "      <td>3</td>\n",
       "      <td>1</td>\n",
       "      <td>0.417145</td>\n",
       "      <td>GW</td>\n",
       "      <td>GO</td>\n",
       "    </tr>\n",
       "    <tr>\n",
       "      <th>8</th>\n",
       "      <td>b'images_recognition\\\\train_test_17\\\\test\\\\G\\\\...</td>\n",
       "      <td>3</td>\n",
       "      <td>3</td>\n",
       "      <td>0.426137</td>\n",
       "      <td>GW</td>\n",
       "      <td>GW</td>\n",
       "    </tr>\n",
       "    <tr>\n",
       "      <th>9</th>\n",
       "      <td>b'images_recognition\\\\train_test_17\\\\test\\\\OW\\...</td>\n",
       "      <td>4</td>\n",
       "      <td>4</td>\n",
       "      <td>0.421191</td>\n",
       "      <td>O</td>\n",
       "      <td>O</td>\n",
       "    </tr>\n",
       "    <tr>\n",
       "      <th>10</th>\n",
       "      <td>b'images_recognition\\\\train_test_17\\\\test\\\\OW\\...</td>\n",
       "      <td>4</td>\n",
       "      <td>5</td>\n",
       "      <td>0.369627</td>\n",
       "      <td>O</td>\n",
       "      <td>OW</td>\n",
       "    </tr>\n",
       "    <tr>\n",
       "      <th>11</th>\n",
       "      <td>b'images_recognition\\\\train_test_17\\\\test\\\\OW\\...</td>\n",
       "      <td>5</td>\n",
       "      <td>5</td>\n",
       "      <td>0.328183</td>\n",
       "      <td>OW</td>\n",
       "      <td>OW</td>\n",
       "    </tr>\n",
       "    <tr>\n",
       "      <th>12</th>\n",
       "      <td>b'images_recognition\\\\train_test_17\\\\test\\\\O\\\\...</td>\n",
       "      <td>5</td>\n",
       "      <td>5</td>\n",
       "      <td>0.443624</td>\n",
       "      <td>OW</td>\n",
       "      <td>OW</td>\n",
       "    </tr>\n",
       "    <tr>\n",
       "      <th>13</th>\n",
       "      <td>b'images_recognition\\\\train_test_17\\\\test\\\\O\\\\...</td>\n",
       "      <td>5</td>\n",
       "      <td>5</td>\n",
       "      <td>0.685585</td>\n",
       "      <td>OW</td>\n",
       "      <td>OW</td>\n",
       "    </tr>\n",
       "    <tr>\n",
       "      <th>14</th>\n",
       "      <td>b'images_recognition\\\\train_test_17\\\\test\\\\W\\\\...</td>\n",
       "      <td>6</td>\n",
       "      <td>6</td>\n",
       "      <td>0.383454</td>\n",
       "      <td>W</td>\n",
       "      <td>W</td>\n",
       "    </tr>\n",
       "    <tr>\n",
       "      <th>15</th>\n",
       "      <td>b'images_recognition\\\\train_test_17\\\\test\\\\W\\\\...</td>\n",
       "      <td>6</td>\n",
       "      <td>6</td>\n",
       "      <td>0.233343</td>\n",
       "      <td>W</td>\n",
       "      <td>W</td>\n",
       "    </tr>\n",
       "  </tbody>\n",
       "</table>\n",
       "</div>"
      ],
      "text/plain": [
       "                                             img_path  y_true  y_pred  \\\n",
       "0   b'images_recognition\\\\train_test_17\\\\test\\\\GOW...       0       4   \n",
       "1   b'images_recognition\\\\train_test_17\\\\test\\\\GOW...       0       0   \n",
       "2   b'images_recognition\\\\train_test_17\\\\test\\\\GOW...       1       2   \n",
       "3   b'images_recognition\\\\train_test_17\\\\test\\\\GO\\...       1       1   \n",
       "4   b'images_recognition\\\\train_test_17\\\\test\\\\GO\\...       2       2   \n",
       "5   b'images_recognition\\\\train_test_17\\\\test\\\\GW\\...       2       4   \n",
       "6   b'images_recognition\\\\train_test_17\\\\test\\\\GW\\...       2       2   \n",
       "7   b'images_recognition\\\\train_test_17\\\\test\\\\G\\\\...       3       1   \n",
       "8   b'images_recognition\\\\train_test_17\\\\test\\\\G\\\\...       3       3   \n",
       "9   b'images_recognition\\\\train_test_17\\\\test\\\\OW\\...       4       4   \n",
       "10  b'images_recognition\\\\train_test_17\\\\test\\\\OW\\...       4       5   \n",
       "11  b'images_recognition\\\\train_test_17\\\\test\\\\OW\\...       5       5   \n",
       "12  b'images_recognition\\\\train_test_17\\\\test\\\\O\\\\...       5       5   \n",
       "13  b'images_recognition\\\\train_test_17\\\\test\\\\O\\\\...       5       5   \n",
       "14  b'images_recognition\\\\train_test_17\\\\test\\\\W\\\\...       6       6   \n",
       "15  b'images_recognition\\\\train_test_17\\\\test\\\\W\\\\...       6       6   \n",
       "\n",
       "    pred_conf y_true_classname y_pred_classname  \n",
       "0    0.479682                G                O  \n",
       "1    0.687454                G                G  \n",
       "2    0.634731               GO              GOW  \n",
       "3    0.411484               GO               GO  \n",
       "4    0.609592              GOW              GOW  \n",
       "5    0.544718              GOW                O  \n",
       "6    0.876113              GOW              GOW  \n",
       "7    0.417145               GW               GO  \n",
       "8    0.426137               GW               GW  \n",
       "9    0.421191                O                O  \n",
       "10   0.369627                O               OW  \n",
       "11   0.328183               OW               OW  \n",
       "12   0.443624               OW               OW  \n",
       "13   0.685585               OW               OW  \n",
       "14   0.383454                W                W  \n",
       "15   0.233343                W                W  "
      ]
     },
     "execution_count": 39,
     "metadata": {},
     "output_type": "execute_result"
    }
   ],
   "source": [
    "#Create a DataFrame of different parameters for each of the test images\n",
    "import pandas as pd\n",
    "pred_df = pd.DataFrame({\"img_path\": filepaths,\n",
    "                        \"y_true\": y_labels,\n",
    "                        \"y_pred\": y_preds,\n",
    "                        \"pred_conf\": y_probs.max(axis=1),\n",
    "                        \"y_true_classname\": [class_names[i] for i in y_labels],\n",
    "                        \"y_pred_classname\": [class_names[i] for i in y_preds]})\n",
    "pred_df"
   ]
  },
  {
   "cell_type": "code",
   "execution_count": 40,
   "metadata": {
    "colab": {
     "base_uri": "https://localhost:8080/",
     "height": 423
    },
    "id": "aT7iJzCu2VFa",
    "outputId": "228b597f-7848-433e-93d0-a8df85527794"
   },
   "outputs": [
    {
     "data": {
      "text/html": [
       "<div>\n",
       "<style scoped>\n",
       "    .dataframe tbody tr th:only-of-type {\n",
       "        vertical-align: middle;\n",
       "    }\n",
       "\n",
       "    .dataframe tbody tr th {\n",
       "        vertical-align: top;\n",
       "    }\n",
       "\n",
       "    .dataframe thead th {\n",
       "        text-align: right;\n",
       "    }\n",
       "</style>\n",
       "<table border=\"1\" class=\"dataframe\">\n",
       "  <thead>\n",
       "    <tr style=\"text-align: right;\">\n",
       "      <th></th>\n",
       "      <th>img_path</th>\n",
       "      <th>y_true</th>\n",
       "      <th>y_pred</th>\n",
       "      <th>pred_conf</th>\n",
       "      <th>y_true_classname</th>\n",
       "      <th>y_pred_classname</th>\n",
       "      <th>pred_correct</th>\n",
       "    </tr>\n",
       "  </thead>\n",
       "  <tbody>\n",
       "    <tr>\n",
       "      <th>0</th>\n",
       "      <td>b'images_recognition\\\\train_test_17\\\\test\\\\GOW...</td>\n",
       "      <td>0</td>\n",
       "      <td>4</td>\n",
       "      <td>0.479682</td>\n",
       "      <td>G</td>\n",
       "      <td>O</td>\n",
       "      <td>False</td>\n",
       "    </tr>\n",
       "    <tr>\n",
       "      <th>1</th>\n",
       "      <td>b'images_recognition\\\\train_test_17\\\\test\\\\GOW...</td>\n",
       "      <td>0</td>\n",
       "      <td>0</td>\n",
       "      <td>0.687454</td>\n",
       "      <td>G</td>\n",
       "      <td>G</td>\n",
       "      <td>True</td>\n",
       "    </tr>\n",
       "    <tr>\n",
       "      <th>2</th>\n",
       "      <td>b'images_recognition\\\\train_test_17\\\\test\\\\GOW...</td>\n",
       "      <td>1</td>\n",
       "      <td>2</td>\n",
       "      <td>0.634731</td>\n",
       "      <td>GO</td>\n",
       "      <td>GOW</td>\n",
       "      <td>False</td>\n",
       "    </tr>\n",
       "    <tr>\n",
       "      <th>3</th>\n",
       "      <td>b'images_recognition\\\\train_test_17\\\\test\\\\GO\\...</td>\n",
       "      <td>1</td>\n",
       "      <td>1</td>\n",
       "      <td>0.411484</td>\n",
       "      <td>GO</td>\n",
       "      <td>GO</td>\n",
       "      <td>True</td>\n",
       "    </tr>\n",
       "    <tr>\n",
       "      <th>4</th>\n",
       "      <td>b'images_recognition\\\\train_test_17\\\\test\\\\GO\\...</td>\n",
       "      <td>2</td>\n",
       "      <td>2</td>\n",
       "      <td>0.609592</td>\n",
       "      <td>GOW</td>\n",
       "      <td>GOW</td>\n",
       "      <td>True</td>\n",
       "    </tr>\n",
       "    <tr>\n",
       "      <th>5</th>\n",
       "      <td>b'images_recognition\\\\train_test_17\\\\test\\\\GW\\...</td>\n",
       "      <td>2</td>\n",
       "      <td>4</td>\n",
       "      <td>0.544718</td>\n",
       "      <td>GOW</td>\n",
       "      <td>O</td>\n",
       "      <td>False</td>\n",
       "    </tr>\n",
       "    <tr>\n",
       "      <th>6</th>\n",
       "      <td>b'images_recognition\\\\train_test_17\\\\test\\\\GW\\...</td>\n",
       "      <td>2</td>\n",
       "      <td>2</td>\n",
       "      <td>0.876113</td>\n",
       "      <td>GOW</td>\n",
       "      <td>GOW</td>\n",
       "      <td>True</td>\n",
       "    </tr>\n",
       "    <tr>\n",
       "      <th>7</th>\n",
       "      <td>b'images_recognition\\\\train_test_17\\\\test\\\\G\\\\...</td>\n",
       "      <td>3</td>\n",
       "      <td>1</td>\n",
       "      <td>0.417145</td>\n",
       "      <td>GW</td>\n",
       "      <td>GO</td>\n",
       "      <td>False</td>\n",
       "    </tr>\n",
       "    <tr>\n",
       "      <th>8</th>\n",
       "      <td>b'images_recognition\\\\train_test_17\\\\test\\\\G\\\\...</td>\n",
       "      <td>3</td>\n",
       "      <td>3</td>\n",
       "      <td>0.426137</td>\n",
       "      <td>GW</td>\n",
       "      <td>GW</td>\n",
       "      <td>True</td>\n",
       "    </tr>\n",
       "    <tr>\n",
       "      <th>9</th>\n",
       "      <td>b'images_recognition\\\\train_test_17\\\\test\\\\OW\\...</td>\n",
       "      <td>4</td>\n",
       "      <td>4</td>\n",
       "      <td>0.421191</td>\n",
       "      <td>O</td>\n",
       "      <td>O</td>\n",
       "      <td>True</td>\n",
       "    </tr>\n",
       "    <tr>\n",
       "      <th>10</th>\n",
       "      <td>b'images_recognition\\\\train_test_17\\\\test\\\\OW\\...</td>\n",
       "      <td>4</td>\n",
       "      <td>5</td>\n",
       "      <td>0.369627</td>\n",
       "      <td>O</td>\n",
       "      <td>OW</td>\n",
       "      <td>False</td>\n",
       "    </tr>\n",
       "    <tr>\n",
       "      <th>11</th>\n",
       "      <td>b'images_recognition\\\\train_test_17\\\\test\\\\OW\\...</td>\n",
       "      <td>5</td>\n",
       "      <td>5</td>\n",
       "      <td>0.328183</td>\n",
       "      <td>OW</td>\n",
       "      <td>OW</td>\n",
       "      <td>True</td>\n",
       "    </tr>\n",
       "    <tr>\n",
       "      <th>12</th>\n",
       "      <td>b'images_recognition\\\\train_test_17\\\\test\\\\O\\\\...</td>\n",
       "      <td>5</td>\n",
       "      <td>5</td>\n",
       "      <td>0.443624</td>\n",
       "      <td>OW</td>\n",
       "      <td>OW</td>\n",
       "      <td>True</td>\n",
       "    </tr>\n",
       "    <tr>\n",
       "      <th>13</th>\n",
       "      <td>b'images_recognition\\\\train_test_17\\\\test\\\\O\\\\...</td>\n",
       "      <td>5</td>\n",
       "      <td>5</td>\n",
       "      <td>0.685585</td>\n",
       "      <td>OW</td>\n",
       "      <td>OW</td>\n",
       "      <td>True</td>\n",
       "    </tr>\n",
       "    <tr>\n",
       "      <th>14</th>\n",
       "      <td>b'images_recognition\\\\train_test_17\\\\test\\\\W\\\\...</td>\n",
       "      <td>6</td>\n",
       "      <td>6</td>\n",
       "      <td>0.383454</td>\n",
       "      <td>W</td>\n",
       "      <td>W</td>\n",
       "      <td>True</td>\n",
       "    </tr>\n",
       "    <tr>\n",
       "      <th>15</th>\n",
       "      <td>b'images_recognition\\\\train_test_17\\\\test\\\\W\\\\...</td>\n",
       "      <td>6</td>\n",
       "      <td>6</td>\n",
       "      <td>0.233343</td>\n",
       "      <td>W</td>\n",
       "      <td>W</td>\n",
       "      <td>True</td>\n",
       "    </tr>\n",
       "  </tbody>\n",
       "</table>\n",
       "</div>"
      ],
      "text/plain": [
       "                                             img_path  y_true  y_pred  \\\n",
       "0   b'images_recognition\\\\train_test_17\\\\test\\\\GOW...       0       4   \n",
       "1   b'images_recognition\\\\train_test_17\\\\test\\\\GOW...       0       0   \n",
       "2   b'images_recognition\\\\train_test_17\\\\test\\\\GOW...       1       2   \n",
       "3   b'images_recognition\\\\train_test_17\\\\test\\\\GO\\...       1       1   \n",
       "4   b'images_recognition\\\\train_test_17\\\\test\\\\GO\\...       2       2   \n",
       "5   b'images_recognition\\\\train_test_17\\\\test\\\\GW\\...       2       4   \n",
       "6   b'images_recognition\\\\train_test_17\\\\test\\\\GW\\...       2       2   \n",
       "7   b'images_recognition\\\\train_test_17\\\\test\\\\G\\\\...       3       1   \n",
       "8   b'images_recognition\\\\train_test_17\\\\test\\\\G\\\\...       3       3   \n",
       "9   b'images_recognition\\\\train_test_17\\\\test\\\\OW\\...       4       4   \n",
       "10  b'images_recognition\\\\train_test_17\\\\test\\\\OW\\...       4       5   \n",
       "11  b'images_recognition\\\\train_test_17\\\\test\\\\OW\\...       5       5   \n",
       "12  b'images_recognition\\\\train_test_17\\\\test\\\\O\\\\...       5       5   \n",
       "13  b'images_recognition\\\\train_test_17\\\\test\\\\O\\\\...       5       5   \n",
       "14  b'images_recognition\\\\train_test_17\\\\test\\\\W\\\\...       6       6   \n",
       "15  b'images_recognition\\\\train_test_17\\\\test\\\\W\\\\...       6       6   \n",
       "\n",
       "    pred_conf y_true_classname y_pred_classname  pred_correct  \n",
       "0    0.479682                G                O         False  \n",
       "1    0.687454                G                G          True  \n",
       "2    0.634731               GO              GOW         False  \n",
       "3    0.411484               GO               GO          True  \n",
       "4    0.609592              GOW              GOW          True  \n",
       "5    0.544718              GOW                O         False  \n",
       "6    0.876113              GOW              GOW          True  \n",
       "7    0.417145               GW               GO         False  \n",
       "8    0.426137               GW               GW          True  \n",
       "9    0.421191                O                O          True  \n",
       "10   0.369627                O               OW         False  \n",
       "11   0.328183               OW               OW          True  \n",
       "12   0.443624               OW               OW          True  \n",
       "13   0.685585               OW               OW          True  \n",
       "14   0.383454                W                W          True  \n",
       "15   0.233343                W                W          True  "
      ]
     },
     "execution_count": 40,
     "metadata": {},
     "output_type": "execute_result"
    }
   ],
   "source": [
    "#Find out in our DataFrame which predictions are wrong\n",
    "pred_df[\"pred_correct\"] = pred_df[\"y_true\"] == pred_df[\"y_pred\"]\n",
    "pred_df"
   ]
  },
  {
   "cell_type": "code",
   "execution_count": 41,
   "metadata": {
    "id": "BGR3BibQ5wy1"
   },
   "outputs": [],
   "source": [
    "# Saving file\n",
    "pred_df.to_excel(\"flow_type_predictions_channel_3_final.xlsx\", index=False)"
   ]
  }
 ],
 "metadata": {
  "accelerator": "GPU",
  "colab": {
   "provenance": []
  },
  "gpuClass": "standard",
  "kernelspec": {
   "display_name": "Python 3 (ipykernel)",
   "language": "python",
   "name": "python3"
  },
  "language_info": {
   "codemirror_mode": {
    "name": "ipython",
    "version": 3
   },
   "file_extension": ".py",
   "mimetype": "text/x-python",
   "name": "python",
   "nbconvert_exporter": "python",
   "pygments_lexer": "ipython3",
   "version": "3.9.16"
  }
 },
 "nbformat": 4,
 "nbformat_minor": 4
}
